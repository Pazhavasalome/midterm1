{
 "cells": [
  {
   "cell_type": "code",
   "execution_count": 8,
   "id": "3be8c703-44f0-42bd-b98b-0416e01789bc",
   "metadata": {},
   "outputs": [
    {
     "name": "stdout",
     "output_type": "stream",
     "text": [
      "Content: \n",
      "Subject: Claim Your Free Trial Now!\n",
      "Don...\n",
      "Result: Spam\n",
      "\n",
      "Content: ----------------\n",
      "Subject: Instant Weight...\n",
      "Result: Regular (non-spam)\n",
      "\n",
      "Content: ----------------\n",
      "Subject: Exclusive Acce...\n",
      "Result: Regular (non-spam)\n",
      "\n",
      "Word Count: -0.07\n",
      "Link Count: 0.99\n",
      "Capitalized Word Count: -0.53\n",
      "Spam Keyword Count: 1.19\n"
     ]
    }
   ],
   "source": [
    "# Required libraries\n",
    "import numpy as np\n",
    "import re\n",
    "from sklearn.linear_model import LogisticRegression\n",
    "\n",
    "# Retrieve the spam dataset\n",
    "email_data = np.genfromtxt('spam-data.csv', delimiter=',', skip_header=1)\n",
    "features = email_data[:, :-1]  # Input features\n",
    "labels = email_data[:, -1]  # Output labels (0 for regular, 1 for spam)\n",
    "\n",
    "# Initialize and train the logistic regression model\n",
    "spam_classifier = LogisticRegression()\n",
    "spam_classifier.fit(features, labels)\n",
    "\n",
    "# Function to derive features from an email\n",
    "def analyze_email(email_text):\n",
    "    word_count = len(email_text.split())\n",
    "    link_count = len(re.findall(r'http[s]?://(?:[a-zA-Z]|[0-9]|[$-_@.&+]|[!*\\(\\),]|(?:%[0-9a-fA-F][0-9a-fA-F]))+', email_text))\n",
    "    cap_word_count = len(re.findall(r'\\b[A-Z][A-Z]+\\b', email_text))\n",
    "    suspicious_keywords = ['win', 'prize', 'lottery', 'offer', 'discount', 'free', 'promotion', 'opportunity']\n",
    "    spam_keyword_count = sum(word.lower() in email_text.lower() for word in suspicious_keywords)\n",
    "    return [word_count, link_count, cap_word_count, spam_keyword_count]\n",
    "\n",
    "# Evaluate emails for spam detection\n",
    "with open('emails.txt', 'r') as file:\n",
    "    emails = file.read().split('\\n\\n')\n",
    "\n",
    "for content in emails:\n",
    "    if content:\n",
    "        features_extracted = analyze_email(content)\n",
    "        prediction_result = spam_classifier.predict([features_extracted])\n",
    "        if prediction_result[0] == 0:\n",
    "            print(f\"Content: {content[:40]}...\\nResult: Regular (non-spam)\\n\")\n",
    "        else:\n",
    "            print(f\"Content: {content[:40]}...\\nResult: Spam\\n\")\n",
    "\n",
    "# Data inspection\n",
    "# Determine the significance of each feature\n",
    "feature_weights = spam_classifier.coef_[0]\n",
    "feature_labels = ['Word Count', 'Link Count', 'Capitalized Word Count', 'Spam Keyword Count']\n",
    "\n",
    "# Display the feature weights\n",
    "for label, weight in zip(feature_labels, feature_weights):\n",
    "    print(f\"{label}: {weight:.2f}\")\n"
   ]
  },
  {
   "cell_type": "code",
   "execution_count": null,
   "id": "335b6219-3c25-4381-8fa6-636bda1820c1",
   "metadata": {},
   "outputs": [],
   "source": []
  }
 ],
 "metadata": {
  "kernelspec": {
   "display_name": "Python 3 (ipykernel)",
   "language": "python",
   "name": "python3"
  },
  "language_info": {
   "codemirror_mode": {
    "name": "ipython",
    "version": 3
   },
   "file_extension": ".py",
   "mimetype": "text/x-python",
   "name": "python",
   "nbconvert_exporter": "python",
   "pygments_lexer": "ipython3",
   "version": "3.11.7"
  }
 },
 "nbformat": 4,
 "nbformat_minor": 5
}
