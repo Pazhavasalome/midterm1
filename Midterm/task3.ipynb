{
 "cells": [
  {
   "cell_type": "code",
   "execution_count": 1,
   "id": "1c87613f-a8d6-4a89-afd2-948fe644a904",
   "metadata": {},
   "outputs": [
    {
     "name": "stdout",
     "output_type": "stream",
     "text": [
      "Classifier Accuracy: 0.95\n",
      "The first email is categorized as: Spam\n"
     ]
    },
    {
     "name": "stderr",
     "output_type": "stream",
     "text": [
      "C:\\Users\\GF\\anaconda3\\Lib\\site-packages\\sklearn\\base.py:439: UserWarning: X does not have valid feature names, but LogisticRegression was fitted with feature names\n",
      "  warnings.warn(\n"
     ]
    }
   ],
   "source": [
"""import pandas as pd\n""",
    """from sklearn.model_selection import train_test_split\n""",
    """from sklearn.linear_model import LogisticRegression\n""",
    """from sklearn.metrics import accuracy_score\n""",
    """\n""",
    """def loadData():\n""",
    """    data = pd.read_csv('spam-data.csv')\n""",
    """    X = data.drop('Class', axis=1)\n""",
    """    y = data['Class']\n""",
    """    return X, y\n""",
    """\n""",
    """def trainClassifier(X, y):\n""",
    """    X_train, X_test, y_train, y_test = train_test_split(X, y, test_size=0.3, random_state=50)\n""",
    """    clf = LogisticRegression()\n""",
    """    clf.fit(X_train, y_train)\n""",
    """    predictions = clf.predict(X_test)\n""",
    """    acc = accuracy_score(y_test, predictions)\n""",
    """    print(f\"Classifier Accuracy: {acc:.2f}\")\n""",
    """    return clf\n""",
    """\n""",
    """def extractFirstEmailFeatures():\n""",
    """    return [30, 5, 3, 8]\n""",
    """\n""",
    """def predictSpam(clf):\n""",
    """    features = extractFirstEmailFeatures()\n""",
    """    prediction = clf.predict([features])\n""",
    """    label = 'Spam' if prediction[0] == 1 else 'Not Spam'\n""",
    """    print(f'The first email is categorized as: {label}')\n""",
    """\n""",
    """def main():\n""",
    """    X, y = loadData()\n""",
    """    clf = trainClassifier(X, y)\n""",
    """    predictSpam(clf)\n""",
    """\n""",
    """if _name_ == "_main_":\n""",
    """    main()\n"""

  }
 ],
 "metadata": {
  "kernelspec": {
   "display_name": "Python 3 (ipykernel)",
   "language": "python",
   "name": "python3"
  },
  "language_info": {
   "codemirror_mode": {
    "name": "ipython",
    "version": 3
   },
   "file_extension": ".py",
   "mimetype": "text/x-python",
   "name": "python",
   "nbconvert_exporter": "python",
   "pygments_lexer": "ipython3",
   "version": "3.11.7"
  }
 },
 "nbformat": 4,
 "nbformat_minor": 5
}
