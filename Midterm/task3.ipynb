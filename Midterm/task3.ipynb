{
 "cells": [
  {
   "cell_type": "code",
   "execution_count": 1,
   "id": "1c87613f-a8d6-4a89-afd2-948fe644a904",
   "metadata": {},
   "outputs": [
    {
     "name": "stdout",
     "output_type": "stream",
     "text": [
      "Classifier Accuracy: 0.95\n",
      "The first email is categorized as: Spam\n"
     ]
    },
    {
     "name": "stderr",
     "output_type": "stream",
     "text": [
      "C:\\Users\\GF\\anaconda3\\Lib\\site-packages\\sklearn\\base.py:439: UserWarning: X does not have valid feature names, but LogisticRegression was fitted with feature names\n",
      "  warnings.warn(\n"
     ]
    }
   ],
   "source": [
    import pandas as pd
from sklearn.model_selection import train_test_split
from sklearn.linear_model import LogisticRegression
from sklearn.metrics import accuracy_score

def loadData():
    data = pd.read_csv('spam-data.csv')
    X = data.drop('Class', axis=1)
    y = data['Class']
    return X, y

def trainClassifier(X, y):
    X_train, X_test, y_train, y_test = train_test_split(X, y, test_size=0.3, random_state=50)
    clf = LogisticRegression()
    clf.fit(X_train, y_train)
    predictions = clf.predict(X_test)
    acc = accuracy_score(y_test, predictions)
    print(f"Classifier Accuracy: {acc:.2f}")
    return clf

def extractFirstEmailFeatures():
    return [30, 5, 3, 8]

def predictSpam(clf):
    features = extractFirstEmailFeatures()
    prediction = clf.predict([features])
    label = 'Spam' if prediction[0] == 1 else 'Not Spam'
    print(f'The first email is categorized as: {label}')

def main():
    X, y = loadData()
    clf = trainClassifier(X, y)
    predictSpam(clf)

if _name_ == "_main_":
    main()

  }
 ],
 "metadata": {
  "kernelspec": {
   "display_name": "Python 3 (ipykernel)",
   "language": "python",
   "name": "python3"
  },
  "language_info": {
   "codemirror_mode": {
    "name": "ipython",
    "version": 3
   },
   "file_extension": ".py",
   "mimetype": "text/x-python",
   "name": "python",
   "nbconvert_exporter": "python",
   "pygments_lexer": "ipython3",
   "version": "3.11.7"
  }
 },
 "nbformat": 4,
 "nbformat_minor": 5
}
