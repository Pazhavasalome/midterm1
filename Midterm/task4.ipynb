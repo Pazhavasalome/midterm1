{
 "cells": [
  {
   "cell_type": "code",
   "execution_count": 4,
   "id": "304215a5-9753-4399-a35e-8f24d9a56dd5",
   "metadata": {},
   "outputs": [
    {
     "name": "stdout",
     "output_type": "stream",
     "text": [
      "Resulting Confusion Matrix:\n",
      "[[10  4]\n",
      " [ 0 15]]\n"
     ]
    }
   ],
   "source": [
    "import pandas as pd\n",
    "from sklearn.model_selection import train_test_split\n",
    "from sklearn.linear_model import LogisticRegression\n",
    "from sklearn.metrics import confusion_matrix\n",
    "\n",
    "def load_data(filepath):\n",
    "    dataset = pd.read_csv(filepath)\n",
    "    features = dataset.drop('Class', axis=1)\n",
    "    labels = dataset['Class']\n",
    "    return features, labels\n",
    "\n",
    "def split_data(features, labels):\n",
    "    train_features, test_features, train_labels, test_labels = train_test_split(\n",
    "        features, labels, test_size=0.2, random_state=38)\n",
    "    return train_features, test_features, train_labels, test_labels\n",
    "\n",
    "def train_model(train_features, train_labels):\n",
    "    clf = LogisticRegression(max_iter=150)\n",
    "    clf.fit(train_features, train_labels)\n",
    "    return clf\n",
    "\n",
    "def evaluate_model(classifier, test_features, test_labels):\n",
    "    predictions = classifier.predict(test_features)\n",
    "    confusion_mat = confusion_matrix(test_labels, predictions)\n",
    "    return confusion_mat\n",
    "\n",
    "def main():\n",
    "    data_filepath = 'spam-data.csv'  # Provide the correct path to your spam-data.csv file\n",
    "    features, labels = load_data(data_filepath)\n",
    "    train_features, test_features, train_labels, test_labels = split_data(features, labels)\n",
    "    classifier = train_model(train_features, train_labels)\n",
    "    confusion_mat = evaluate_model(classifier, test_features, test_labels)\n",
    "    print(\"Resulting Confusion Matrix:\")\n",
    "    print(confusion_mat)\n",
    "\n",
    "if __name__ == \"__main__\":\n",
    "    main()\n"
   ]
  },
  {
   "cell_type": "code",
   "execution_count": null,
   "id": "c8198862-9331-47c3-8bb5-d9b2115fa368",
   "metadata": {},
   "outputs": [],
   "source": []
  }
 ],
 "metadata": {
  "kernelspec": {
   "display_name": "Python 3 (ipykernel)",
   "language": "python",
   "name": "python3"
  },
  "language_info": {
   "codemirror_mode": {
    "name": "ipython",
    "version": 3
   },
   "file_extension": ".py",
   "mimetype": "text/x-python",
   "name": "python",
   "nbconvert_exporter": "python",
   "pygments_lexer": "ipython3",
   "version": "3.11.7"
  }
 },
 "nbformat": 4,
 "nbformat_minor": 5
}
